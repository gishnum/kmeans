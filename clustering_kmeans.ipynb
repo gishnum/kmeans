{
  "nbformat": 4,
  "nbformat_minor": 0,
  "metadata": {
    "colab": {
      "name": "clustering_kmeans",
      "version": "0.3.2",
      "provenance": [],
      "include_colab_link": true
    },
    "kernelspec": {
      "name": "python3",
      "display_name": "Python 3"
    }
  },
  "cells": [
    {
      "cell_type": "markdown",
      "metadata": {
        "id": "view-in-github",
        "colab_type": "text"
      },
      "source": [
        "<a href=\"https://colab.research.google.com/github/gishnum/kmeans/blob/master/clustering_kmeans.ipynb\" target=\"_parent\"><img src=\"https://colab.research.google.com/assets/colab-badge.svg\" alt=\"Open In Colab\"/></a>"
      ]
    },
    {
      "cell_type": "code",
      "metadata": {
        "id": "227NOJzFi8bf",
        "colab_type": "code",
        "colab": {}
      },
      "source": [
        "import pandas as pd\n",
        "import numpy as np\n",
        "\n",
        "df = pd.read_csv('https://raw.githubusercontent.com/gishnum/kmeans/master/nutrient.csv',index_col=0)"
      ],
      "execution_count": 0,
      "outputs": []
    },
    {
      "cell_type": "code",
      "metadata": {
        "id": "3OZGo4UWkU6O",
        "colab_type": "code",
        "colab": {}
      },
      "source": [
        "from sklearn.preprocessing import StandardScaler\n",
        "# Create scaler: scaler\n",
        "scaler = StandardScaler()\n",
        "df_scaled=scaler.fit_transform(df)"
      ],
      "execution_count": 0,
      "outputs": []
    },
    {
      "cell_type": "code",
      "metadata": {
        "id": "YO7r_0Qqlz1U",
        "colab_type": "code",
        "colab": {}
      },
      "source": [
        "df_scaled = pd.DataFrame(df_scaled,columns=df.columns)"
      ],
      "execution_count": 0,
      "outputs": []
    },
    {
      "cell_type": "code",
      "metadata": {
        "id": "dFtHOMAMlHVX",
        "colab_type": "code",
        "colab": {}
      },
      "source": [
        "from sklearn.cluster import KMeans\n",
        "\n",
        "model = KMeans(n_clusters=3,random_state=2019)"
      ],
      "execution_count": 0,
      "outputs": []
    },
    {
      "cell_type": "code",
      "metadata": {
        "id": "yJJuDjm7kjAM",
        "colab_type": "code",
        "colab": {
          "base_uri": "https://localhost:8080/",
          "height": 69
        },
        "outputId": "05037255-7791-482b-f88a-2e1e7a9b2e83"
      },
      "source": [
        "# Fit model to points\n",
        "model.fit(df_scaled)"
      ],
      "execution_count": 14,
      "outputs": [
        {
          "output_type": "execute_result",
          "data": {
            "text/plain": [
              "KMeans(algorithm='auto', copy_x=True, init='k-means++', max_iter=300,\n",
              "       n_clusters=3, n_init=10, n_jobs=None, precompute_distances='auto',\n",
              "       random_state=2019, tol=0.0001, verbose=0)"
            ]
          },
          "metadata": {
            "tags": []
          },
          "execution_count": 14
        }
      ]
    },
    {
      "cell_type": "code",
      "metadata": {
        "id": "74fYmZBplYCE",
        "colab_type": "code",
        "colab": {
          "base_uri": "https://localhost:8080/",
          "height": 34
        },
        "outputId": "0496d491-6d94-45d8-f4c3-f079427177b5"
      },
      "source": [
        "#model.n_init\n",
        "# Determine the cluster labels of new_points: labels\n",
        "labels = model.predict(df_scaled)\n",
        "print(labels)\n"
      ],
      "execution_count": 15,
      "outputs": [
        {
          "output_type": "stream",
          "text": [
            "[1 1 1 1 2 2 2 2 1 1 1 1 1 2 2 2 0 0 2 2 2 2 2 2 2 2 2]\n"
          ],
          "name": "stdout"
        }
      ]
    },
    {
      "cell_type": "code",
      "metadata": {
        "id": "WJPNE7ujllDl",
        "colab_type": "code",
        "colab": {}
      },
      "source": [
        "clusterID = pd.DataFrame({'ClustID':labels})\n",
        "clusteredData = pd.concat([df.reset_index(),clusterID],axis=1)"
      ],
      "execution_count": 0,
      "outputs": []
    },
    {
      "cell_type": "code",
      "metadata": {
        "id": "rMl9aIZUmmBn",
        "colab_type": "code",
        "colab": {
          "base_uri": "https://localhost:8080/",
          "height": 501
        },
        "outputId": "6d800431-7ba4-4ee5-9e28-337a11aa5f48"
      },
      "source": [
        "print(clusteredData)"
      ],
      "execution_count": 29,
      "outputs": [
        {
          "output_type": "stream",
          "text": [
            "              Food_Item  energy  protein  fat  calcium  iron  ClustID\n",
            "0          BEEF BRAISED     340       20   28        9   2.6        2\n",
            "1             HAMBURGER     245       21   17        9   2.7        3\n",
            "2            BEEF ROAST     420       15   39        7   2.0        2\n",
            "3            BEEF STEAK     375       19   32        9   2.6        2\n",
            "4           BEEF CANNED     180       22   10       17   3.7        3\n",
            "5       CHICKEN BROILED     115       20    3        8   1.4        3\n",
            "6        CHICKEN CANNED     170       25    7       12   1.5        3\n",
            "7            BEEF HEART     160       26    5       14   5.9        3\n",
            "8        LAMB LEG ROAST     265       20   20        9   2.6        2\n",
            "9   LAMB SHOULDER ROAST     300       18   25        9   2.3        2\n",
            "10           SMOKED HAM     340       20   28        9   2.5        2\n",
            "11           PORK ROAST     340       19   29        9   2.5        2\n",
            "12        PORK SIMMERED     355       19   30        9   2.4        2\n",
            "13          BEEF TONGUE     205       18   14        7   2.5        3\n",
            "14          VEAL CUTLET     185       23    9        9   2.7        3\n",
            "15       BLUEFISH BAKED     135       22    4       25   0.6        3\n",
            "16            CLAMS RAW      70       11    1       82   6.0        0\n",
            "17         CLAMS CANNED      45        7    1       74   5.4        0\n",
            "18      CRABMEAT CANNED      90       14    2       38   0.8        1\n",
            "19        HADDOCK FRIED     135       16    5       15   0.5        1\n",
            "20     MACKEREL BROILED     200       19   13        5   1.0        3\n",
            "21      MACKEREL CANNED     155       16    9      157   1.8        1\n",
            "22          PERCH FRIED     195       16   11       14   1.3        3\n",
            "23        SALMON CANNED     120       17    5      159   0.7        1\n",
            "24      SARDINES CANNED     180       22    9      367   2.5        1\n",
            "25          TUNA CANNED     170       25    7        7   1.2        3\n",
            "26        SHRIMP CANNED     110       23    1       98   2.6        3\n"
          ],
          "name": "stdout"
        }
      ]
    },
    {
      "cell_type": "code",
      "metadata": {
        "id": "j-s1yTR8mB8V",
        "colab_type": "code",
        "colab": {
          "base_uri": "https://localhost:8080/",
          "height": 34
        },
        "outputId": "9d3bde3f-909d-42d4-d69d-7f9a7f8b1062"
      },
      "source": [
        "print(model.inertia_)\n"
      ],
      "execution_count": 18,
      "outputs": [
        {
          "output_type": "stream",
          "text": [
            "61.538712936940485\n"
          ],
          "name": "stdout"
        }
      ]
    },
    {
      "cell_type": "code",
      "metadata": {
        "id": "ieEepmn3mElU",
        "colab_type": "code",
        "colab": {}
      },
      "source": [
        "clustNos = [2,3,4,5,6,7,8,9,10]\n",
        "Inertia = []\n",
        "\n",
        "for i in clustNos :\n",
        "    model = KMeans(n_clusters=i,random_state=2019)\n",
        "    model.fit(df_scaled)\n",
        "    Inertia.append(model.inertia_)"
      ],
      "execution_count": 0,
      "outputs": []
    },
    {
      "cell_type": "code",
      "metadata": {
        "id": "r69-wWnjmLqs",
        "colab_type": "code",
        "colab": {
          "base_uri": "https://localhost:8080/",
          "height": 295
        },
        "outputId": "84d80a01-62a8-4ab1-dc58-3abe9a90fabb"
      },
      "source": [
        "# Import pyplot\n",
        "import matplotlib.pyplot as plt\n",
        "\n",
        "plt.plot(clustNos, Inertia, '-o')\n",
        "plt.title(\"Scree Plot\")\n",
        "plt.xlabel('Number of clusters, k')\n",
        "plt.ylabel('Inertia')\n",
        "plt.xticks(clustNos)\n",
        "plt.show()"
      ],
      "execution_count": 22,
      "outputs": [
        {
          "output_type": "display_data",
          "data": {
            "image/png": "[encoded data removed]",
            "text/plain": [
              "<Figure size 432x288 with 1 Axes>"
            ]
          },
          "metadata": {
            "tags": []
          }
        }
      ]
    },
    {
      "cell_type": "code",
      "metadata": {
        "id": "dm3BzyWzmOwE",
        "colab_type": "code",
        "colab": {}
      },
      "source": [
        "# Create a KMeans instance with clusters: Best k model\n",
        "model = KMeans(n_clusters=4)"
      ],
      "execution_count": 0,
      "outputs": []
    },
    {
      "cell_type": "code",
      "metadata": {
        "id": "Eqk6cmIhmQ3V",
        "colab_type": "code",
        "colab": {}
      },
      "source": [
        "# Fit model to points\n",
        "model.fit(df_scaled)\n",
        "#model.n_init\n",
        "# Determine the cluster labels of new_points: labels\n",
        "labels = model.predict(df_scaled)\n"
      ],
      "execution_count": 0,
      "outputs": []
    },
    {
      "cell_type": "code",
      "metadata": {
        "id": "9e9sEGcimXmV",
        "colab_type": "code",
        "colab": {}
      },
      "source": [
        "clusterID = pd.DataFrame(labels)\n",
        "clusteredData = pd.concat([df.reset_index(drop=True),clusterID],axis=1)"
      ],
      "execution_count": 0,
      "outputs": []
    },
    {
      "cell_type": "code",
      "metadata": {
        "id": "7ABKn4oCmbbU",
        "colab_type": "code",
        "colab": {
          "base_uri": "https://localhost:8080/",
          "height": 501
        },
        "outputId": "f36f6103-70ad-49a4-dcab-df8e00cb8492"
      },
      "source": [
        "print(clusteredData)"
      ],
      "execution_count": 33,
      "outputs": [
        {
          "output_type": "stream",
          "text": [
            "    energy  protein  fat  calcium  iron  0\n",
            "0      340       20   28        9   2.6  0\n",
            "1      245       21   17        9   2.7  0\n",
            "2      420       15   39        7   2.0  0\n",
            "3      375       19   32        9   2.6  0\n",
            "4      180       22   10       17   3.7  1\n",
            "5      115       20    3        8   1.4  1\n",
            "6      170       25    7       12   1.5  1\n",
            "7      160       26    5       14   5.9  1\n",
            "8      265       20   20        9   2.6  0\n",
            "9      300       18   25        9   2.3  0\n",
            "10     340       20   28        9   2.5  0\n",
            "11     340       19   29        9   2.5  0\n",
            "12     355       19   30        9   2.4  0\n",
            "13     205       18   14        7   2.5  1\n",
            "14     185       23    9        9   2.7  1\n",
            "15     135       22    4       25   0.6  1\n",
            "16      70       11    1       82   6.0  3\n",
            "17      45        7    1       74   5.4  3\n",
            "18      90       14    2       38   0.8  1\n",
            "19     135       16    5       15   0.5  1\n",
            "20     200       19   13        5   1.0  1\n",
            "21     155       16    9      157   1.8  1\n",
            "22     195       16   11       14   1.3  1\n",
            "23     120       17    5      159   0.7  1\n",
            "24     180       22    9      367   2.5  2\n",
            "25     170       25    7        7   1.2  1\n",
            "26     110       23    1       98   2.6  1\n"
          ],
          "name": "stdout"
        }
      ]
    },
    {
      "cell_type": "code",
      "metadata": {
        "id": "mclmXZcBm1MN",
        "colab_type": "code",
        "colab": {}
      },
      "source": [
        "## Using Pipeline\n",
        "# Perform the necessary imports\n",
        "from sklearn.pipeline import make_pipeline\n",
        "from sklearn.preprocessing import StandardScaler\n",
        "from sklearn.cluster import KMeans\n"
      ],
      "execution_count": 0,
      "outputs": []
    },
    {
      "cell_type": "code",
      "metadata": {
        "id": "qUbhiQswm4Mv",
        "colab_type": "code",
        "colab": {}
      },
      "source": [
        "# Create scaler: scaler\n",
        "scaler = StandardScaler()\n",
        "\n",
        "# Create KMeans instance: kmeans\n",
        "kmeans = KMeans(n_clusters=4)\n",
        "\n",
        "# Create pipeline: pipeline\n",
        "pipeline = make_pipeline(scaler,kmeans)\n"
      ],
      "execution_count": 0,
      "outputs": []
    },
    {
      "cell_type": "code",
      "metadata": {
        "id": "IUr9zJElm5P-",
        "colab_type": "code",
        "colab": {}
      },
      "source": [
        "# Fit the pipeline to samples\n",
        "pipeline.fit(df_scaled)\n",
        "\n",
        "# Calculate the cluster labels: labels\n",
        "labels = pipeline.predict(df_scaled)\n"
      ],
      "execution_count": 0,
      "outputs": []
    },
    {
      "cell_type": "code",
      "metadata": {
        "id": "IfNHJhk9nAXn",
        "colab_type": "code",
        "colab": {
          "base_uri": "https://localhost:8080/",
          "height": 34
        },
        "outputId": "83494ee7-62a0-4201-c66f-1142c79a45cd"
      },
      "source": [
        "# Display ct\n",
        "print(labels)"
      ],
      "execution_count": 37,
      "outputs": [
        {
          "output_type": "stream",
          "text": [
            "[1 0 1 1 0 0 0 0 1 1 1 1 1 0 0 0 2 2 3 3 0 3 3 3 3 0 0]\n"
          ],
          "name": "stdout"
        }
      ]
    }
  ]
}